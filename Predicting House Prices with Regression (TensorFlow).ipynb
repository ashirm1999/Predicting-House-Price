{
  "nbformat": 4,
  "nbformat_minor": 0,
  "metadata": {
    "kernelspec": {
      "display_name": "Python 3",
      "language": "python",
      "name": "python3"
    },
    "language_info": {
      "codemirror_mode": {
        "name": "ipython",
        "version": 3
      },
      "file_extension": ".py",
      "mimetype": "text/x-python",
      "name": "python",
      "nbconvert_exporter": "python",
      "pygments_lexer": "ipython3",
      "version": "3.6.8"
    },
    "colab": {
      "name": "Predicting House Prices with Regression (TensorFlow) .ipynb",
      "provenance": []
    }
  },
  "cells": [
    {
      "cell_type": "markdown",
      "metadata": {
        "id": "FRtEuplnbtz-"
      },
      "source": [
        "## Importing Libraries"
      ]
    },
    {
      "cell_type": "code",
      "metadata": {
        "id": "AtC3obTabtz_"
      },
      "source": [
        "import pandas as pd\n",
        "import matplotlib.pyplot as plt\n",
        "import tensorflow as tf\n",
        "from sklearn.model_selection import train_test_split\n",
        "from tensorflow.keras.models import Sequential\n",
        "from tensorflow.keras.layers import Dense, Dropout\n",
        "from tensorflow.keras.callbacks import EarlyStopping, LambdaCallback"
      ],
      "execution_count": 1,
      "outputs": []
    },
    {
      "cell_type": "code",
      "metadata": {
        "id": "tjbGhfSMgU2x"
      },
      "source": [
        "import matplotlib.pyplot as plt\n",
        "column_names = ['serial', 'date', 'age', 'distance', 'stores', 'latitude', 'longitude', 'price']\n",
        "\n",
        "def plot_loss(history):\n",
        "    h = history.history\n",
        "    x_lim = len(h['loss'])\n",
        "    plt.figure(figsize=(8, 8))\n",
        "    plt.plot(range(x_lim), h['val_loss'], label = 'Validation Loss')\n",
        "    plt.plot(range(x_lim), h['loss'], label = 'Training Loss')\n",
        "    plt.xlabel('Epochs')\n",
        "    plt.ylabel('Loss')\n",
        "    plt.legend()\n",
        "    plt.show()\n",
        "    return\n",
        "\n",
        "def plot_predictions(preds, y_test):\n",
        "    plt.figure(figsize=(8, 8))\n",
        "    plt.plot(preds, y_test, 'ro')\n",
        "    plt.xlabel('Preds')\n",
        "    plt.ylabel('Labels')\n",
        "    plt.xlim([-0.5, 0.5])\n",
        "    plt.ylim([-0.5, 0.5])\n",
        "    plt.plot([-0.5, 0.5], [-0.5, 0.5], 'b--')\n",
        "    plt.show()\n",
        "    return\n",
        "\n",
        "def compare_predictions(preds1, preds2, y_test):\n",
        "    plt.figure(figsize=(8, 8))\n",
        "    plt.plot(preds1, y_test, 'ro', label='Untrained Model')\n",
        "    plt.plot(preds2, y_test, 'go', label='Trained Model')\n",
        "    plt.xlabel('Preds')\n",
        "    plt.ylabel('Labels')\n",
        "    \n",
        "    y_min = min(min(y_test), min(preds1), min(preds2))\n",
        "    y_max = max(max(y_test), max(preds1), max(preds2))\n",
        "    \n",
        "    plt.xlim([y_min, y_max])\n",
        "    plt.ylim([y_min, y_max])\n",
        "    plt.plot([y_min, y_max], [y_min, y_max], 'b--')\n",
        "    plt.legend()\n",
        "    plt.show()\n",
        "    return"
      ],
      "execution_count": 2,
      "outputs": []
    },
    {
      "cell_type": "markdown",
      "metadata": {
        "id": "15TPTRUmbtz_"
      },
      "source": [
        "## Importing the Data"
      ]
    },
    {
      "cell_type": "code",
      "metadata": {
        "colab": {
          "base_uri": "https://localhost:8080/",
          "height": 204
        },
        "id": "nkoTX2N2btz_",
        "outputId": "234c7a20-88e1-469e-c245-e9f53ffd6c37"
      },
      "source": [
        "df = pd.read_csv('data.csv', names = column_names) \n",
        "df.head()"
      ],
      "execution_count": 3,
      "outputs": [
        {
          "output_type": "execute_result",
          "data": {
            "text/html": [
              "<div>\n",
              "<style scoped>\n",
              "    .dataframe tbody tr th:only-of-type {\n",
              "        vertical-align: middle;\n",
              "    }\n",
              "\n",
              "    .dataframe tbody tr th {\n",
              "        vertical-align: top;\n",
              "    }\n",
              "\n",
              "    .dataframe thead th {\n",
              "        text-align: right;\n",
              "    }\n",
              "</style>\n",
              "<table border=\"1\" class=\"dataframe\">\n",
              "  <thead>\n",
              "    <tr style=\"text-align: right;\">\n",
              "      <th></th>\n",
              "      <th>serial</th>\n",
              "      <th>date</th>\n",
              "      <th>age</th>\n",
              "      <th>distance</th>\n",
              "      <th>stores</th>\n",
              "      <th>latitude</th>\n",
              "      <th>longitude</th>\n",
              "      <th>price</th>\n",
              "    </tr>\n",
              "  </thead>\n",
              "  <tbody>\n",
              "    <tr>\n",
              "      <th>0</th>\n",
              "      <td>0</td>\n",
              "      <td>2009</td>\n",
              "      <td>21</td>\n",
              "      <td>9</td>\n",
              "      <td>6</td>\n",
              "      <td>84</td>\n",
              "      <td>121</td>\n",
              "      <td>14264</td>\n",
              "    </tr>\n",
              "    <tr>\n",
              "      <th>1</th>\n",
              "      <td>1</td>\n",
              "      <td>2007</td>\n",
              "      <td>4</td>\n",
              "      <td>2</td>\n",
              "      <td>3</td>\n",
              "      <td>86</td>\n",
              "      <td>121</td>\n",
              "      <td>12032</td>\n",
              "    </tr>\n",
              "    <tr>\n",
              "      <th>2</th>\n",
              "      <td>2</td>\n",
              "      <td>2016</td>\n",
              "      <td>18</td>\n",
              "      <td>3</td>\n",
              "      <td>7</td>\n",
              "      <td>90</td>\n",
              "      <td>120</td>\n",
              "      <td>13560</td>\n",
              "    </tr>\n",
              "    <tr>\n",
              "      <th>3</th>\n",
              "      <td>3</td>\n",
              "      <td>2002</td>\n",
              "      <td>13</td>\n",
              "      <td>2</td>\n",
              "      <td>2</td>\n",
              "      <td>80</td>\n",
              "      <td>128</td>\n",
              "      <td>12029</td>\n",
              "    </tr>\n",
              "    <tr>\n",
              "      <th>4</th>\n",
              "      <td>4</td>\n",
              "      <td>2014</td>\n",
              "      <td>25</td>\n",
              "      <td>5</td>\n",
              "      <td>8</td>\n",
              "      <td>81</td>\n",
              "      <td>122</td>\n",
              "      <td>14157</td>\n",
              "    </tr>\n",
              "  </tbody>\n",
              "</table>\n",
              "</div>"
            ],
            "text/plain": [
              "   serial  date  age  distance  stores  latitude  longitude  price\n",
              "0       0  2009   21         9       6        84        121  14264\n",
              "1       1  2007    4         2       3        86        121  12032\n",
              "2       2  2016   18         3       7        90        120  13560\n",
              "3       3  2002   13         2       2        80        128  12029\n",
              "4       4  2014   25         5       8        81        122  14157"
            ]
          },
          "metadata": {
            "tags": []
          },
          "execution_count": 3
        }
      ]
    },
    {
      "cell_type": "markdown",
      "metadata": {
        "id": "_MVpqEelbtz_"
      },
      "source": [
        "## To Check the Missing Data"
      ]
    },
    {
      "cell_type": "code",
      "metadata": {
        "colab": {
          "base_uri": "https://localhost:8080/"
        },
        "id": "VwucebOTbt0A",
        "outputId": "81d15cb0-0bb5-4d9c-e99e-b43122bd4871"
      },
      "source": [
        "df.isna().sum()"
      ],
      "execution_count": 4,
      "outputs": [
        {
          "output_type": "execute_result",
          "data": {
            "text/plain": [
              "serial       0\n",
              "date         0\n",
              "age          0\n",
              "distance     0\n",
              "stores       0\n",
              "latitude     0\n",
              "longitude    0\n",
              "price        0\n",
              "dtype: int64"
            ]
          },
          "metadata": {
            "tags": []
          },
          "execution_count": 4
        }
      ]
    },
    {
      "cell_type": "markdown",
      "metadata": {
        "id": "DSbcemYfbt0A"
      },
      "source": [
        "## Data Normalization"
      ]
    },
    {
      "cell_type": "code",
      "metadata": {
        "colab": {
          "base_uri": "https://localhost:8080/",
          "height": 204
        },
        "id": "xRzFmbTlbt0A",
        "outputId": "6a6dc07b-4204-4b30-c82f-dc7e18e1dbea"
      },
      "source": [
        "df = df.iloc[:,1:]\n",
        "df_norm = (df - df.mean()) / df.std()\n",
        "df_norm.head()"
      ],
      "execution_count": 5,
      "outputs": [
        {
          "output_type": "execute_result",
          "data": {
            "text/html": [
              "<div>\n",
              "<style scoped>\n",
              "    .dataframe tbody tr th:only-of-type {\n",
              "        vertical-align: middle;\n",
              "    }\n",
              "\n",
              "    .dataframe tbody tr th {\n",
              "        vertical-align: top;\n",
              "    }\n",
              "\n",
              "    .dataframe thead th {\n",
              "        text-align: right;\n",
              "    }\n",
              "</style>\n",
              "<table border=\"1\" class=\"dataframe\">\n",
              "  <thead>\n",
              "    <tr style=\"text-align: right;\">\n",
              "      <th></th>\n",
              "      <th>date</th>\n",
              "      <th>age</th>\n",
              "      <th>distance</th>\n",
              "      <th>stores</th>\n",
              "      <th>latitude</th>\n",
              "      <th>longitude</th>\n",
              "      <th>price</th>\n",
              "    </tr>\n",
              "  </thead>\n",
              "  <tbody>\n",
              "    <tr>\n",
              "      <th>0</th>\n",
              "      <td>0.015978</td>\n",
              "      <td>0.181384</td>\n",
              "      <td>1.257002</td>\n",
              "      <td>0.345224</td>\n",
              "      <td>-0.307212</td>\n",
              "      <td>-1.260799</td>\n",
              "      <td>0.350088</td>\n",
              "    </tr>\n",
              "    <tr>\n",
              "      <th>1</th>\n",
              "      <td>-0.350485</td>\n",
              "      <td>-1.319118</td>\n",
              "      <td>-0.930610</td>\n",
              "      <td>-0.609312</td>\n",
              "      <td>0.325301</td>\n",
              "      <td>-1.260799</td>\n",
              "      <td>-1.836486</td>\n",
              "    </tr>\n",
              "    <tr>\n",
              "      <th>2</th>\n",
              "      <td>1.298598</td>\n",
              "      <td>-0.083410</td>\n",
              "      <td>-0.618094</td>\n",
              "      <td>0.663402</td>\n",
              "      <td>1.590328</td>\n",
              "      <td>-1.576456</td>\n",
              "      <td>-0.339584</td>\n",
              "    </tr>\n",
              "    <tr>\n",
              "      <th>3</th>\n",
              "      <td>-1.266643</td>\n",
              "      <td>-0.524735</td>\n",
              "      <td>-0.930610</td>\n",
              "      <td>-0.927491</td>\n",
              "      <td>-1.572238</td>\n",
              "      <td>0.948803</td>\n",
              "      <td>-1.839425</td>\n",
              "    </tr>\n",
              "    <tr>\n",
              "      <th>4</th>\n",
              "      <td>0.932135</td>\n",
              "      <td>0.534444</td>\n",
              "      <td>0.006938</td>\n",
              "      <td>0.981581</td>\n",
              "      <td>-1.255981</td>\n",
              "      <td>-0.945141</td>\n",
              "      <td>0.245266</td>\n",
              "    </tr>\n",
              "  </tbody>\n",
              "</table>\n",
              "</div>"
            ],
            "text/plain": [
              "       date       age  distance    stores  latitude  longitude     price\n",
              "0  0.015978  0.181384  1.257002  0.345224 -0.307212  -1.260799  0.350088\n",
              "1 -0.350485 -1.319118 -0.930610 -0.609312  0.325301  -1.260799 -1.836486\n",
              "2  1.298598 -0.083410 -0.618094  0.663402  1.590328  -1.576456 -0.339584\n",
              "3 -1.266643 -0.524735 -0.930610 -0.927491 -1.572238   0.948803 -1.839425\n",
              "4  0.932135  0.534444  0.006938  0.981581 -1.255981  -0.945141  0.245266"
            ]
          },
          "metadata": {
            "tags": []
          },
          "execution_count": 5
        }
      ]
    },
    {
      "cell_type": "markdown",
      "metadata": {
        "id": "l-2-K1epbt0A"
      },
      "source": [
        "## Converting Label Value"
      ]
    },
    {
      "cell_type": "code",
      "metadata": {
        "id": "tmCZhVo7bt0A"
      },
      "source": [
        "y_mean = df['price'].mean()\n",
        "y_std = df['price'].std()\n",
        "\n",
        "def convert_label_value(pred):\n",
        "    return int(pred * y_std + y_mean)"
      ],
      "execution_count": 6,
      "outputs": []
    },
    {
      "cell_type": "markdown",
      "metadata": {
        "id": "-c0eA9qfbt0A"
      },
      "source": [
        "## Selecting Features"
      ]
    },
    {
      "cell_type": "code",
      "metadata": {
        "colab": {
          "base_uri": "https://localhost:8080/",
          "height": 204
        },
        "id": "GOce41D7bt0B",
        "outputId": "c11291f9-a0dd-4e5c-ef11-7ce8f6b0665c"
      },
      "source": [
        "X = df_norm.iloc[:, :6]\n",
        "X.head()"
      ],
      "execution_count": 7,
      "outputs": [
        {
          "output_type": "execute_result",
          "data": {
            "text/html": [
              "<div>\n",
              "<style scoped>\n",
              "    .dataframe tbody tr th:only-of-type {\n",
              "        vertical-align: middle;\n",
              "    }\n",
              "\n",
              "    .dataframe tbody tr th {\n",
              "        vertical-align: top;\n",
              "    }\n",
              "\n",
              "    .dataframe thead th {\n",
              "        text-align: right;\n",
              "    }\n",
              "</style>\n",
              "<table border=\"1\" class=\"dataframe\">\n",
              "  <thead>\n",
              "    <tr style=\"text-align: right;\">\n",
              "      <th></th>\n",
              "      <th>date</th>\n",
              "      <th>age</th>\n",
              "      <th>distance</th>\n",
              "      <th>stores</th>\n",
              "      <th>latitude</th>\n",
              "      <th>longitude</th>\n",
              "    </tr>\n",
              "  </thead>\n",
              "  <tbody>\n",
              "    <tr>\n",
              "      <th>0</th>\n",
              "      <td>0.015978</td>\n",
              "      <td>0.181384</td>\n",
              "      <td>1.257002</td>\n",
              "      <td>0.345224</td>\n",
              "      <td>-0.307212</td>\n",
              "      <td>-1.260799</td>\n",
              "    </tr>\n",
              "    <tr>\n",
              "      <th>1</th>\n",
              "      <td>-0.350485</td>\n",
              "      <td>-1.319118</td>\n",
              "      <td>-0.930610</td>\n",
              "      <td>-0.609312</td>\n",
              "      <td>0.325301</td>\n",
              "      <td>-1.260799</td>\n",
              "    </tr>\n",
              "    <tr>\n",
              "      <th>2</th>\n",
              "      <td>1.298598</td>\n",
              "      <td>-0.083410</td>\n",
              "      <td>-0.618094</td>\n",
              "      <td>0.663402</td>\n",
              "      <td>1.590328</td>\n",
              "      <td>-1.576456</td>\n",
              "    </tr>\n",
              "    <tr>\n",
              "      <th>3</th>\n",
              "      <td>-1.266643</td>\n",
              "      <td>-0.524735</td>\n",
              "      <td>-0.930610</td>\n",
              "      <td>-0.927491</td>\n",
              "      <td>-1.572238</td>\n",
              "      <td>0.948803</td>\n",
              "    </tr>\n",
              "    <tr>\n",
              "      <th>4</th>\n",
              "      <td>0.932135</td>\n",
              "      <td>0.534444</td>\n",
              "      <td>0.006938</td>\n",
              "      <td>0.981581</td>\n",
              "      <td>-1.255981</td>\n",
              "      <td>-0.945141</td>\n",
              "    </tr>\n",
              "  </tbody>\n",
              "</table>\n",
              "</div>"
            ],
            "text/plain": [
              "       date       age  distance    stores  latitude  longitude\n",
              "0  0.015978  0.181384  1.257002  0.345224 -0.307212  -1.260799\n",
              "1 -0.350485 -1.319118 -0.930610 -0.609312  0.325301  -1.260799\n",
              "2  1.298598 -0.083410 -0.618094  0.663402  1.590328  -1.576456\n",
              "3 -1.266643 -0.524735 -0.930610 -0.927491 -1.572238   0.948803\n",
              "4  0.932135  0.534444  0.006938  0.981581 -1.255981  -0.945141"
            ]
          },
          "metadata": {
            "tags": []
          },
          "execution_count": 7
        }
      ]
    },
    {
      "cell_type": "markdown",
      "metadata": {
        "id": "fbTcMkMmbt0B"
      },
      "source": [
        "## Selecting Labels"
      ]
    },
    {
      "cell_type": "code",
      "metadata": {
        "colab": {
          "base_uri": "https://localhost:8080/"
        },
        "id": "Tsgib4ZBbt0B",
        "outputId": "82ca42aa-18d3-42fd-f0de-09f0c635f739"
      },
      "source": [
        "Y = df_norm.iloc[:, -1]\n",
        "Y.head()"
      ],
      "execution_count": 8,
      "outputs": [
        {
          "output_type": "execute_result",
          "data": {
            "text/plain": [
              "0    0.350088\n",
              "1   -1.836486\n",
              "2   -0.339584\n",
              "3   -1.839425\n",
              "4    0.245266\n",
              "Name: price, dtype: float64"
            ]
          },
          "metadata": {
            "tags": []
          },
          "execution_count": 8
        }
      ]
    },
    {
      "cell_type": "markdown",
      "metadata": {
        "id": "Zp-C_kkfbt0B"
      },
      "source": [
        "## Train and Test Split"
      ]
    },
    {
      "cell_type": "code",
      "metadata": {
        "id": "J8ScO3jTbt0B"
      },
      "source": [
        "X_train, X_test, y_train, y_test = train_test_split(X, Y, test_size = 0.05, shuffle = True, random_state=0)"
      ],
      "execution_count": 12,
      "outputs": []
    },
    {
      "cell_type": "markdown",
      "metadata": {
        "id": "bC23rW6Ybt0B"
      },
      "source": [
        "## Creating the Model"
      ]
    },
    {
      "cell_type": "code",
      "metadata": {
        "colab": {
          "base_uri": "https://localhost:8080/"
        },
        "id": "8PwOfL0jbt0B",
        "outputId": "43cb59f3-3001-452c-9b62-2c54308a84cd"
      },
      "source": [
        "def get_model():\n",
        "    \n",
        "    model = Sequential([Dense(10, input_shape = (6,), activation = 'relu'),Dense(20, activation = 'relu'), Dense(5, activation = 'relu'),Dense(1)])\n",
        "    model.compile(loss='mse',optimizer='adadelta')\n",
        "    return model\n",
        "\n",
        "model = get_model()\n",
        "model.summary()"
      ],
      "execution_count": 13,
      "outputs": [
        {
          "output_type": "stream",
          "text": [
            "Model: \"sequential_2\"\n",
            "_________________________________________________________________\n",
            "Layer (type)                 Output Shape              Param #   \n",
            "=================================================================\n",
            "dense_8 (Dense)              (None, 10)                70        \n",
            "_________________________________________________________________\n",
            "dense_9 (Dense)              (None, 20)                220       \n",
            "_________________________________________________________________\n",
            "dense_10 (Dense)             (None, 5)                 105       \n",
            "_________________________________________________________________\n",
            "dense_11 (Dense)             (None, 1)                 6         \n",
            "=================================================================\n",
            "Total params: 401\n",
            "Trainable params: 401\n",
            "Non-trainable params: 0\n",
            "_________________________________________________________________\n"
          ],
          "name": "stdout"
        }
      ]
    },
    {
      "cell_type": "markdown",
      "metadata": {
        "id": "qUg0KKexbt0B"
      },
      "source": [
        "## Model Training"
      ]
    },
    {
      "cell_type": "code",
      "metadata": {
        "colab": {
          "base_uri": "https://localhost:8080/"
        },
        "id": "PoPnr77rbt0B",
        "outputId": "fd811fce-83da-4a1a-ecab-96b71c98cd25"
      },
      "source": [
        "early_stopping = EarlyStopping(monitor='val_loss', patience = 5)\n",
        "model = get_model()\n",
        "preds_on_untrained = model.predict(X_test)\n",
        "history = model.fit(X_train, y_train,validation_data = (X_test, y_test),epochs = 1000,callbacks = [early_stopping])"
      ],
      "execution_count": 14,
      "outputs": [
        {
          "output_type": "stream",
          "text": [
            "Epoch 1/1000\n",
            "149/149 [==============================] - 0s 2ms/step - loss: 1.1194 - val_loss: 0.9804\n",
            "Epoch 2/1000\n",
            "149/149 [==============================] - 0s 1ms/step - loss: 1.1182 - val_loss: 0.9794\n",
            "Epoch 3/1000\n",
            "149/149 [==============================] - 0s 1ms/step - loss: 1.1171 - val_loss: 0.9785\n",
            "Epoch 4/1000\n",
            "149/149 [==============================] - 0s 1ms/step - loss: 1.1160 - val_loss: 0.9776\n",
            "Epoch 5/1000\n",
            "149/149 [==============================] - 0s 1ms/step - loss: 1.1150 - val_loss: 0.9767\n",
            "Epoch 6/1000\n",
            "149/149 [==============================] - 0s 1ms/step - loss: 1.1139 - val_loss: 0.9758\n",
            "Epoch 7/1000\n",
            "149/149 [==============================] - 0s 1ms/step - loss: 1.1129 - val_loss: 0.9749\n",
            "Epoch 8/1000\n",
            "149/149 [==============================] - 0s 1ms/step - loss: 1.1119 - val_loss: 0.9740\n",
            "Epoch 9/1000\n",
            "149/149 [==============================] - 0s 1ms/step - loss: 1.1109 - val_loss: 0.9732\n",
            "Epoch 10/1000\n",
            "149/149 [==============================] - 0s 1ms/step - loss: 1.1100 - val_loss: 0.9723\n",
            "Epoch 11/1000\n",
            "149/149 [==============================] - 0s 1ms/step - loss: 1.1090 - val_loss: 0.9714\n",
            "Epoch 12/1000\n",
            "149/149 [==============================] - 0s 2ms/step - loss: 1.1080 - val_loss: 0.9706\n",
            "Epoch 13/1000\n",
            "149/149 [==============================] - 0s 1ms/step - loss: 1.1070 - val_loss: 0.9698\n",
            "Epoch 14/1000\n",
            "149/149 [==============================] - 0s 1ms/step - loss: 1.1061 - val_loss: 0.9689\n",
            "Epoch 15/1000\n",
            "149/149 [==============================] - 0s 1ms/step - loss: 1.1052 - val_loss: 0.9681\n",
            "Epoch 16/1000\n",
            "149/149 [==============================] - 0s 1ms/step - loss: 1.1042 - val_loss: 0.9673\n",
            "Epoch 17/1000\n",
            "149/149 [==============================] - 0s 1ms/step - loss: 1.1033 - val_loss: 0.9665\n",
            "Epoch 18/1000\n",
            "149/149 [==============================] - 0s 1ms/step - loss: 1.1024 - val_loss: 0.9657\n",
            "Epoch 19/1000\n",
            "149/149 [==============================] - 0s 1ms/step - loss: 1.1015 - val_loss: 0.9648\n",
            "Epoch 20/1000\n",
            "149/149 [==============================] - 0s 1ms/step - loss: 1.1005 - val_loss: 0.9640\n",
            "Epoch 21/1000\n",
            "149/149 [==============================] - 0s 1ms/step - loss: 1.0996 - val_loss: 0.9632\n",
            "Epoch 22/1000\n",
            "149/149 [==============================] - 0s 1ms/step - loss: 1.0987 - val_loss: 0.9624\n",
            "Epoch 23/1000\n",
            "149/149 [==============================] - 0s 1ms/step - loss: 1.0978 - val_loss: 0.9616\n",
            "Epoch 24/1000\n",
            "149/149 [==============================] - 0s 1ms/step - loss: 1.0969 - val_loss: 0.9608\n",
            "Epoch 25/1000\n",
            "149/149 [==============================] - 0s 1ms/step - loss: 1.0960 - val_loss: 0.9600\n",
            "Epoch 26/1000\n",
            "149/149 [==============================] - 0s 1ms/step - loss: 1.0951 - val_loss: 0.9593\n",
            "Epoch 27/1000\n",
            "149/149 [==============================] - 0s 1ms/step - loss: 1.0943 - val_loss: 0.9585\n",
            "Epoch 28/1000\n",
            "149/149 [==============================] - 0s 1ms/step - loss: 1.0934 - val_loss: 0.9577\n",
            "Epoch 29/1000\n",
            "149/149 [==============================] - 0s 1ms/step - loss: 1.0925 - val_loss: 0.9570\n",
            "Epoch 30/1000\n",
            "149/149 [==============================] - 0s 1ms/step - loss: 1.0917 - val_loss: 0.9562\n",
            "Epoch 31/1000\n",
            "149/149 [==============================] - 0s 1ms/step - loss: 1.0908 - val_loss: 0.9554\n",
            "Epoch 32/1000\n",
            "149/149 [==============================] - 0s 1ms/step - loss: 1.0900 - val_loss: 0.9547\n",
            "Epoch 33/1000\n",
            "149/149 [==============================] - 0s 1ms/step - loss: 1.0891 - val_loss: 0.9540\n",
            "Epoch 34/1000\n",
            "149/149 [==============================] - 0s 1ms/step - loss: 1.0883 - val_loss: 0.9532\n",
            "Epoch 35/1000\n",
            "149/149 [==============================] - 0s 1ms/step - loss: 1.0875 - val_loss: 0.9525\n",
            "Epoch 36/1000\n",
            "149/149 [==============================] - 0s 1ms/step - loss: 1.0867 - val_loss: 0.9518\n",
            "Epoch 37/1000\n",
            "149/149 [==============================] - 0s 1ms/step - loss: 1.0858 - val_loss: 0.9511\n",
            "Epoch 38/1000\n",
            "149/149 [==============================] - 0s 983us/step - loss: 1.0850 - val_loss: 0.9504\n",
            "Epoch 39/1000\n",
            "149/149 [==============================] - 0s 1ms/step - loss: 1.0842 - val_loss: 0.9496\n",
            "Epoch 40/1000\n",
            "149/149 [==============================] - 0s 1ms/step - loss: 1.0834 - val_loss: 0.9489\n",
            "Epoch 41/1000\n",
            "149/149 [==============================] - 0s 1ms/step - loss: 1.0826 - val_loss: 0.9482\n",
            "Epoch 42/1000\n",
            "149/149 [==============================] - 0s 987us/step - loss: 1.0818 - val_loss: 0.9475\n",
            "Epoch 43/1000\n",
            "149/149 [==============================] - 0s 1ms/step - loss: 1.0810 - val_loss: 0.9469\n",
            "Epoch 44/1000\n",
            "149/149 [==============================] - 0s 1ms/step - loss: 1.0802 - val_loss: 0.9462\n",
            "Epoch 45/1000\n",
            "149/149 [==============================] - 0s 1ms/step - loss: 1.0794 - val_loss: 0.9455\n",
            "Epoch 46/1000\n",
            "149/149 [==============================] - 0s 1ms/step - loss: 1.0786 - val_loss: 0.9448\n",
            "Epoch 47/1000\n",
            "149/149 [==============================] - 0s 1ms/step - loss: 1.0778 - val_loss: 0.9442\n",
            "Epoch 48/1000\n",
            "149/149 [==============================] - 0s 1ms/step - loss: 1.0770 - val_loss: 0.9436\n",
            "Epoch 49/1000\n",
            "149/149 [==============================] - 0s 1ms/step - loss: 1.0763 - val_loss: 0.9429\n",
            "Epoch 50/1000\n",
            "149/149 [==============================] - 0s 1ms/step - loss: 1.0755 - val_loss: 0.9423\n",
            "Epoch 51/1000\n",
            "149/149 [==============================] - 0s 1ms/step - loss: 1.0748 - val_loss: 0.9416\n",
            "Epoch 52/1000\n",
            "149/149 [==============================] - 0s 997us/step - loss: 1.0740 - val_loss: 0.9410\n",
            "Epoch 53/1000\n",
            "149/149 [==============================] - 0s 1ms/step - loss: 1.0733 - val_loss: 0.9404\n",
            "Epoch 54/1000\n",
            "149/149 [==============================] - 0s 1ms/step - loss: 1.0726 - val_loss: 0.9397\n",
            "Epoch 55/1000\n",
            "149/149 [==============================] - 0s 1ms/step - loss: 1.0718 - val_loss: 0.9391\n",
            "Epoch 56/1000\n",
            "149/149 [==============================] - 0s 1ms/step - loss: 1.0711 - val_loss: 0.9384\n",
            "Epoch 57/1000\n",
            "149/149 [==============================] - 0s 997us/step - loss: 1.0703 - val_loss: 0.9378\n",
            "Epoch 58/1000\n",
            "149/149 [==============================] - 0s 1ms/step - loss: 1.0696 - val_loss: 0.9372\n",
            "Epoch 59/1000\n",
            "149/149 [==============================] - 0s 1ms/step - loss: 1.0689 - val_loss: 0.9366\n",
            "Epoch 60/1000\n",
            "149/149 [==============================] - 0s 1ms/step - loss: 1.0682 - val_loss: 0.9359\n",
            "Epoch 61/1000\n",
            "149/149 [==============================] - 0s 1ms/step - loss: 1.0675 - val_loss: 0.9353\n",
            "Epoch 62/1000\n",
            "149/149 [==============================] - 0s 1ms/step - loss: 1.0668 - val_loss: 0.9347\n",
            "Epoch 63/1000\n",
            "149/149 [==============================] - 0s 1ms/step - loss: 1.0661 - val_loss: 0.9341\n",
            "Epoch 64/1000\n",
            "149/149 [==============================] - 0s 1ms/step - loss: 1.0653 - val_loss: 0.9335\n",
            "Epoch 65/1000\n",
            "149/149 [==============================] - 0s 1ms/step - loss: 1.0646 - val_loss: 0.9329\n",
            "Epoch 66/1000\n",
            "149/149 [==============================] - 0s 1ms/step - loss: 1.0639 - val_loss: 0.9323\n",
            "Epoch 67/1000\n",
            "149/149 [==============================] - 0s 981us/step - loss: 1.0632 - val_loss: 0.9317\n",
            "Epoch 68/1000\n",
            "149/149 [==============================] - 0s 1ms/step - loss: 1.0625 - val_loss: 0.9311\n",
            "Epoch 69/1000\n",
            "149/149 [==============================] - 0s 1ms/step - loss: 1.0619 - val_loss: 0.9305\n",
            "Epoch 70/1000\n",
            "149/149 [==============================] - 0s 1ms/step - loss: 1.0612 - val_loss: 0.9298\n",
            "Epoch 71/1000\n",
            "149/149 [==============================] - 0s 1ms/step - loss: 1.0605 - val_loss: 0.9292\n",
            "Epoch 72/1000\n",
            "149/149 [==============================] - 0s 1ms/step - loss: 1.0598 - val_loss: 0.9287\n",
            "Epoch 73/1000\n",
            "149/149 [==============================] - 0s 1ms/step - loss: 1.0592 - val_loss: 0.9281\n",
            "Epoch 74/1000\n",
            "149/149 [==============================] - 0s 1ms/step - loss: 1.0585 - val_loss: 0.9275\n",
            "Epoch 75/1000\n",
            "149/149 [==============================] - 0s 1ms/step - loss: 1.0578 - val_loss: 0.9269\n",
            "Epoch 76/1000\n",
            "149/149 [==============================] - 0s 1ms/step - loss: 1.0572 - val_loss: 0.9264\n",
            "Epoch 77/1000\n",
            "149/149 [==============================] - 0s 1ms/step - loss: 1.0565 - val_loss: 0.9258\n",
            "Epoch 78/1000\n",
            "149/149 [==============================] - 0s 1ms/step - loss: 1.0559 - val_loss: 0.9252\n",
            "Epoch 79/1000\n",
            "149/149 [==============================] - 0s 1ms/step - loss: 1.0552 - val_loss: 0.9246\n",
            "Epoch 80/1000\n",
            "149/149 [==============================] - 0s 1ms/step - loss: 1.0546 - val_loss: 0.9240\n",
            "Epoch 81/1000\n",
            "149/149 [==============================] - 0s 1ms/step - loss: 1.0539 - val_loss: 0.9235\n",
            "Epoch 82/1000\n",
            "149/149 [==============================] - 0s 1ms/step - loss: 1.0533 - val_loss: 0.9229\n",
            "Epoch 83/1000\n",
            "149/149 [==============================] - 0s 1ms/step - loss: 1.0527 - val_loss: 0.9223\n",
            "Epoch 84/1000\n",
            "149/149 [==============================] - 0s 1ms/step - loss: 1.0520 - val_loss: 0.9217\n",
            "Epoch 85/1000\n",
            "149/149 [==============================] - 0s 1ms/step - loss: 1.0514 - val_loss: 0.9212\n",
            "Epoch 86/1000\n",
            "149/149 [==============================] - 0s 1ms/step - loss: 1.0508 - val_loss: 0.9206\n",
            "Epoch 87/1000\n",
            "149/149 [==============================] - 0s 1ms/step - loss: 1.0502 - val_loss: 0.9200\n",
            "Epoch 88/1000\n",
            "149/149 [==============================] - 0s 985us/step - loss: 1.0496 - val_loss: 0.9195\n",
            "Epoch 89/1000\n",
            "149/149 [==============================] - 0s 1ms/step - loss: 1.0490 - val_loss: 0.9189\n",
            "Epoch 90/1000\n",
            "149/149 [==============================] - 0s 1ms/step - loss: 1.0484 - val_loss: 0.9183\n",
            "Epoch 91/1000\n",
            "149/149 [==============================] - 0s 1ms/step - loss: 1.0478 - val_loss: 0.9178\n",
            "Epoch 92/1000\n",
            "149/149 [==============================] - 0s 1ms/step - loss: 1.0472 - val_loss: 0.9172\n",
            "Epoch 93/1000\n",
            "149/149 [==============================] - 0s 1ms/step - loss: 1.0466 - val_loss: 0.9167\n",
            "Epoch 94/1000\n",
            "149/149 [==============================] - 0s 1ms/step - loss: 1.0461 - val_loss: 0.9162\n",
            "Epoch 95/1000\n",
            "149/149 [==============================] - 0s 1ms/step - loss: 1.0455 - val_loss: 0.9156\n",
            "Epoch 96/1000\n",
            "149/149 [==============================] - 0s 1ms/step - loss: 1.0449 - val_loss: 0.9151\n",
            "Epoch 97/1000\n",
            "149/149 [==============================] - 0s 1ms/step - loss: 1.0443 - val_loss: 0.9146\n",
            "Epoch 98/1000\n",
            "149/149 [==============================] - 0s 1ms/step - loss: 1.0438 - val_loss: 0.9140\n",
            "Epoch 99/1000\n",
            "149/149 [==============================] - 0s 1ms/step - loss: 1.0432 - val_loss: 0.9135\n",
            "Epoch 100/1000\n",
            "149/149 [==============================] - 0s 1ms/step - loss: 1.0426 - val_loss: 0.9130\n",
            "Epoch 101/1000\n",
            "149/149 [==============================] - 0s 1ms/step - loss: 1.0421 - val_loss: 0.9125\n",
           
            "Epoch 900/1000\n",
            "149/149 [==============================] - 0s 1ms/step - loss: 0.5341 - val_loss: 0.4953\n",
            "Epoch 901/1000\n",
            "149/149 [==============================] - 0s 1ms/step - loss: 0.5332 - val_loss: 0.4945\n",
            "Epoch 902/1000\n",
            "149/149 [==============================] - 0s 1ms/step - loss: 0.5323 - val_loss: 0.4938\n",
            "Epoch 903/1000\n",
            "149/149 [==============================] - 0s 1ms/step - loss: 0.5314 - val_loss: 0.4930\n",
            "Epoch 904/1000\n",
            "149/149 [==============================] - 0s 1ms/step - loss: 0.5305 - val_loss: 0.4923\n",
            "Epoch 905/1000\n",
            "149/149 [==============================] - 0s 1ms/step - loss: 0.5296 - val_loss: 0.4915\n",
            "Epoch 906/1000\n",
            "149/149 [==============================] - 0s 1ms/step - loss: 0.5288 - val_loss: 0.4908\n",
            "Epoch 907/1000\n",
            "149/149 [==============================] - 0s 1ms/step - loss: 0.5279 - val_loss: 0.4901\n",
            "Epoch 908/1000\n",
            "149/149 [==============================] - 0s 1ms/step - loss: 0.5270 - val_loss: 0.4893\n",
            "Epoch 909/1000\n",
            "149/149 [==============================] - 0s 1ms/step - loss: 0.5261 - val_loss: 0.4886\n",
            "Epoch 910/1000\n",
            "149/149 [==============================] - 0s 1ms/step - loss: 0.5253 - val_loss: 0.4878\n",
            "Epoch 911/1000\n",
            "149/149 [==============================] - 0s 1ms/step - loss: 0.5244 - val_loss: 0.4871\n",
            "Epoch 912/1000\n",
            "149/149 [==============================] - 0s 1ms/step - loss: 0.5235 - val_loss: 0.4864\n",
            "Epoch 913/1000\n",
            "149/149 [==============================] - 0s 1ms/step - loss: 0.5226 - val_loss: 0.4857\n",
            "Epoch 914/1000\n",
            "149/149 [==============================] - 0s 1ms/step - loss: 0.5218 - val_loss: 0.4849\n",
            "Epoch 915/1000\n",
            "149/149 [==============================] - 0s 1ms/step - loss: 0.5209 - val_loss: 0.4842\n",
            "Epoch 916/1000\n",
            "149/149 [==============================] - 0s 1ms/step - loss: 0.5200 - val_loss: 0.4835\n",
            "Epoch 917/1000\n",
            "149/149 [==============================] - 0s 2ms/step - loss: 0.5192 - val_loss: 0.4828\n",
            "Epoch 918/1000\n",
            "149/149 [==============================] - 0s 1ms/step - loss: 0.5183 - val_loss: 0.4820\n",
            "Epoch 919/1000\n",
            "149/149 [==============================] - 0s 1ms/step - loss: 0.5175 - val_loss: 0.4813\n",
            "Epoch 920/1000\n",
            "149/149 [==============================] - 0s 1ms/step - loss: 0.5166 - val_loss: 0.4806\n",
            "Epoch 921/1000\n",
            "149/149 [==============================] - 0s 1ms/step - loss: 0.5157 - val_loss: 0.4799\n",
            "Epoch 922/1000\n",
            "149/149 [==============================] - 0s 1ms/step - loss: 0.5149 - val_loss: 0.4791\n",
            "Epoch 923/1000\n",
            "149/149 [==============================] - 0s 1ms/step - loss: 0.5140 - val_loss: 0.4784\n",
            "Epoch 924/1000\n",
            "149/149 [==============================] - 0s 2ms/step - loss: 0.5132 - val_loss: 0.4777\n",
            "Epoch 925/1000\n",
            "149/149 [==============================] - 0s 1ms/step - loss: 0.5123 - val_loss: 0.4770\n",
            "Epoch 926/1000\n",
            "149/149 [==============================] - 0s 1ms/step - loss: 0.5115 - val_loss: 0.4763\n",
            "Epoch 927/1000\n",
            "149/149 [==============================] - 0s 1ms/step - loss: 0.5107 - val_loss: 0.4756\n",
            "Epoch 928/1000\n",
            "149/149 [==============================] - 0s 1ms/step - loss: 0.5098 - val_loss: 0.4749\n",
            "Epoch 929/1000\n",
            "149/149 [==============================] - 0s 1ms/step - loss: 0.5089 - val_loss: 0.4741\n",
            "Epoch 930/1000\n",
            "149/149 [==============================] - 0s 1ms/step - loss: 0.5081 - val_loss: 0.4734\n",
            "Epoch 931/1000\n",
            "149/149 [==============================] - 0s 1ms/step - loss: 0.5072 - val_loss: 0.4727\n",
            "Epoch 932/1000\n",
            "149/149 [==============================] - 0s 1ms/step - loss: 0.5064 - val_loss: 0.4720\n",
            "Epoch 933/1000\n",
            "149/149 [==============================] - 0s 1ms/step - loss: 0.5055 - val_loss: 0.4713\n",
            "Epoch 934/1000\n",
            "149/149 [==============================] - 0s 1ms/step - loss: 0.5047 - val_loss: 0.4706\n",
            "Epoch 935/1000\n",
            "149/149 [==============================] - 0s 1ms/step - loss: 0.5039 - val_loss: 0.4699\n",
            "Epoch 936/1000\n",
            "149/149 [==============================] - 0s 1ms/step - loss: 0.5030 - val_loss: 0.4692\n",
            "Epoch 937/1000\n",
            "149/149 [==============================] - 0s 1ms/step - loss: 0.5022 - val_loss: 0.4685\n",
            "Epoch 938/1000\n",
            "149/149 [==============================] - 0s 1ms/step - loss: 0.5014 - val_loss: 0.4678\n",
            "Epoch 939/1000\n",
            "149/149 [==============================] - 0s 1ms/step - loss: 0.5006 - val_loss: 0.4671\n",
            "Epoch 940/1000\n",
            "149/149 [==============================] - 0s 1ms/step - loss: 0.4998 - val_loss: 0.4664\n",
            "Epoch 941/1000\n",
            "149/149 [==============================] - 0s 1ms/step - loss: 0.4989 - val_loss: 0.4656\n",
            "Epoch 942/1000\n",
            "149/149 [==============================] - 0s 1ms/step - loss: 0.4981 - val_loss: 0.4649\n",
            "Epoch 943/1000\n",
            "149/149 [==============================] - 0s 1ms/step - loss: 0.4973 - val_loss: 0.4642\n",
            "Epoch 944/1000\n",
            "149/149 [==============================] - 0s 1ms/step - loss: 0.4964 - val_loss: 0.4635\n",
            "Epoch 945/1000\n",
            "149/149 [==============================] - 0s 1ms/step - loss: 0.4956 - val_loss: 0.4628\n",
            "Epoch 946/1000\n",
            "149/149 [==============================] - 0s 1ms/step - loss: 0.4948 - val_loss: 0.4621\n",
            "Epoch 947/1000\n",
            "149/149 [==============================] - 0s 1ms/step - loss: 0.4939 - val_loss: 0.4613\n",
            "Epoch 948/1000\n",
            "149/149 [==============================] - 0s 1ms/step - loss: 0.4931 - val_loss: 0.4606\n",
            "Epoch 949/1000\n",
            "149/149 [==============================] - 0s 1ms/step - loss: 0.4923 - val_loss: 0.4599\n",
            "Epoch 950/1000\n",
            "149/149 [==============================] - 0s 1ms/step - loss: 0.4915 - val_loss: 0.4592\n",
            "Epoch 951/1000\n",
            "149/149 [==============================] - 0s 1ms/step - loss: 0.4907 - val_loss: 0.4585\n",
            "Epoch 952/1000\n",
            "149/149 [==============================] - 0s 1ms/step - loss: 0.4898 - val_loss: 0.4578\n",
            "Epoch 953/1000\n",
            "149/149 [==============================] - 0s 1ms/step - loss: 0.4890 - val_loss: 0.4571\n",
            "Epoch 954/1000\n",
            "149/149 [==============================] - 0s 1ms/step - loss: 0.4882 - val_loss: 0.4565\n",
            "Epoch 955/1000\n",
            "149/149 [==============================] - 0s 1ms/step - loss: 0.4874 - val_loss: 0.4558\n",
            "Epoch 956/1000\n",
            "149/149 [==============================] - 0s 1ms/step - loss: 0.4867 - val_loss: 0.4551\n",
            "Epoch 957/1000\n",
            "149/149 [==============================] - 0s 1ms/step - loss: 0.4859 - val_loss: 0.4544\n",
            "Epoch 958/1000\n",
            "149/149 [==============================] - 0s 1ms/step - loss: 0.4851 - val_loss: 0.4537\n",
            "Epoch 959/1000\n",
            "149/149 [==============================] - 0s 1ms/step - loss: 0.4842 - val_loss: 0.4530\n",
            "Epoch 960/1000\n",
            "149/149 [==============================] - 0s 1ms/step - loss: 0.4834 - val_loss: 0.4523\n",
            "Epoch 961/1000\n",
            "149/149 [==============================] - 0s 1ms/step - loss: 0.4826 - val_loss: 0.4517\n",
            "Epoch 962/1000\n",
            "149/149 [==============================] - 0s 1ms/step - loss: 0.4818 - val_loss: 0.4510\n",
            "Epoch 963/1000\n",
            "149/149 [==============================] - 0s 1ms/step - loss: 0.4810 - val_loss: 0.4503\n",
            "Epoch 964/1000\n",
            "149/149 [==============================] - 0s 1ms/step - loss: 0.4802 - val_loss: 0.4496\n",
            "Epoch 965/1000\n",
            "149/149 [==============================] - 0s 1ms/step - loss: 0.4794 - val_loss: 0.4490\n",
            "Epoch 966/1000\n",
            "149/149 [==============================] - 0s 1ms/step - loss: 0.4786 - val_loss: 0.4483\n",
            "Epoch 967/1000\n",
            "149/149 [==============================] - 0s 1ms/step - loss: 0.4778 - val_loss: 0.4476\n",
            "Epoch 968/1000\n",
            "149/149 [==============================] - 0s 1ms/step - loss: 0.4771 - val_loss: 0.4469\n",
            "Epoch 969/1000\n",
            "149/149 [==============================] - 0s 1ms/step - loss: 0.4763 - val_loss: 0.4463\n",
            "Epoch 970/1000\n",
            "149/149 [==============================] - 0s 1ms/step - loss: 0.4755 - val_loss: 0.4456\n",
            "Epoch 971/1000\n",
            "149/149 [==============================] - 0s 1ms/step - loss: 0.4747 - val_loss: 0.4449\n",
            "Epoch 972/1000\n",
            "149/149 [==============================] - 0s 1ms/step - loss: 0.4739 - val_loss: 0.4442\n",
            "Epoch 973/1000\n",
            "149/149 [==============================] - 0s 1ms/step - loss: 0.4731 - val_loss: 0.4436\n",
            "Epoch 974/1000\n",
            "149/149 [==============================] - 0s 1ms/step - loss: 0.4723 - val_loss: 0.4429\n",
            "Epoch 975/1000\n",
            "149/149 [==============================] - 0s 1ms/step - loss: 0.4716 - val_loss: 0.4422\n",
            "Epoch 976/1000\n",
            "149/149 [==============================] - 0s 1ms/step - loss: 0.4708 - val_loss: 0.4415\n",
            "Epoch 977/1000\n",
            "149/149 [==============================] - 0s 1ms/step - loss: 0.4700 - val_loss: 0.4409\n",
            "Epoch 978/1000\n",
            "149/149 [==============================] - 0s 1ms/step - loss: 0.4692 - val_loss: 0.4402\n",
            "Epoch 979/1000\n",
            "149/149 [==============================] - 0s 1ms/step - loss: 0.4685 - val_loss: 0.4395\n",
            "Epoch 980/1000\n",
            "149/149 [==============================] - 0s 1ms/step - loss: 0.4677 - val_loss: 0.4389\n",
            "Epoch 981/1000\n",
            "149/149 [==============================] - 0s 1ms/step - loss: 0.4669 - val_loss: 0.4382\n",
            "Epoch 982/1000\n",
            "149/149 [==============================] - 0s 1ms/step - loss: 0.4662 - val_loss: 0.4376\n",
            "Epoch 983/1000\n",
            "149/149 [==============================] - 0s 1ms/step - loss: 0.4654 - val_loss: 0.4369\n",
            "Epoch 984/1000\n",
            "149/149 [==============================] - 0s 1ms/step - loss: 0.4646 - val_loss: 0.4362\n",
            "Epoch 985/1000\n",
            "149/149 [==============================] - 0s 1ms/step - loss: 0.4639 - val_loss: 0.4356\n",
            "Epoch 986/1000\n",
            "149/149 [==============================] - 0s 1ms/step - loss: 0.4631 - val_loss: 0.4349\n",
            "Epoch 987/1000\n",
            "149/149 [==============================] - 0s 1ms/step - loss: 0.4624 - val_loss: 0.4343\n",
            "Epoch 988/1000\n",
            "149/149 [==============================] - 0s 1ms/step - loss: 0.4616 - val_loss: 0.4336\n",
            "Epoch 989/1000\n",
            "149/149 [==============================] - 0s 1ms/step - loss: 0.4609 - val_loss: 0.4330\n",
            "Epoch 990/1000\n",
            "149/149 [==============================] - 0s 1ms/step - loss: 0.4602 - val_loss: 0.4323\n",
            "Epoch 991/1000\n",
            "149/149 [==============================] - 0s 1ms/step - loss: 0.4594 - val_loss: 0.4317\n",
            "Epoch 992/1000\n",
            "149/149 [==============================] - 0s 1ms/step - loss: 0.4587 - val_loss: 0.4310\n",
            "Epoch 993/1000\n",
            "149/149 [==============================] - 0s 1ms/step - loss: 0.4579 - val_loss: 0.4303\n",
            "Epoch 994/1000\n",
            "149/149 [==============================] - 0s 1ms/step - loss: 0.4571 - val_loss: 0.4297\n",
            "Epoch 995/1000\n",
            "149/149 [==============================] - 0s 1ms/step - loss: 0.4564 - val_loss: 0.4290\n",
            "Epoch 996/1000\n",
            "149/149 [==============================] - 0s 1ms/step - loss: 0.4556 - val_loss: 0.4284\n",
            "Epoch 997/1000\n",
            "149/149 [==============================] - 0s 1ms/step - loss: 0.4549 - val_loss: 0.4277\n",
            "Epoch 998/1000\n",
            "149/149 [==============================] - 0s 1ms/step - loss: 0.4542 - val_loss: 0.4271\n",
            "Epoch 999/1000\n",
            "149/149 [==============================] - 0s 1ms/step - loss: 0.4535 - val_loss: 0.4265\n",
            "Epoch 1000/1000\n",
            "149/149 [==============================] - 0s 1ms/step - loss: 0.4527 - val_loss: 0.4258\n"
          ],
          "name": "stdout"
        }
      ]
    },
    {
      "cell_type": "markdown",
      "metadata": {
        "id": "Rwgsbwx-bt0B"
      },
      "source": [
        "## Ploting Training and Validation Loss"
      ]
    },
    {
      "cell_type": "code",
      "metadata": {
        "colab": {
          "base_uri": "https://localhost:8080/",
          "height": 497
        },
        "id": "0hktJvRkbt0B",
        "outputId": "80c80184-41ef-4a4d-c00e-859d539c0c7e"
      },
      "source": [
        "plot_loss(history)"
      ],
      "execution_count": 15,
      "outputs": [
        {
          "output_type": "display_data",
          "data": {
            "image/png": "[encoded data removed]",
            "text/plain": [
              "<Figure size 576x576 with 1 Axes>"
            ]
          },
          "metadata": {
            "tags": [],
            "needs_background": "light"
          }
        }
      ]
    },
    {
      "cell_type": "markdown",
      "metadata": {
        "id": "1QKWhBW4bt0B"
      },
      "source": [
        "## Plotting Raw Predictions"
      ]
    },
    {
      "cell_type": "code",
      "metadata": {
        "colab": {
          "base_uri": "https://localhost:8080/",
          "height": 497
        },
        "id": "uQEVoIOfbt0B",
        "outputId": "e5734a95-c5e4-4571-cf7e-04f87b9badea"
      },
      "source": [
        "preds_on_trained = model.predict(X_test)\n",
        "compare_predictions(preds_on_untrained, preds_on_trained, y_test)"
      ],
      "execution_count": 16,
      "outputs": [
        {
          "output_type": "display_data",
          "data": {
            "image/png": "[encoded data removed]",
            "text/plain": [
              "<Figure size 576x576 with 1 Axes>"
            ]
          },
          "metadata": {
            "tags": [],
            "needs_background": "light"
          }
        }
      ]
    },
    {
      "cell_type": "markdown",
      "metadata": {
        "id": "fkB7dkHtbt0B"
      },
      "source": [
        "## Plotting Price Predictions"
      ]
    },
    {
      "cell_type": "code",
      "metadata": {
        "colab": {
          "base_uri": "https://localhost:8080/",
          "height": 499
        },
        "id": "CLdp8doTbt0B",
        "outputId": "aab9de88-f625-46bb-d73a-88f9dcbd63e5"
      },
      "source": [
        "price_on_untrained = [convert_label_value(y) for y in preds_on_untrained]\n",
        "price_on_trained = [convert_label_value(y) for y in preds_on_trained]\n",
        "price_y_test = [convert_label_value(y) for y in y_test]\n",
        "compare_predictions(price_on_untrained, price_on_trained, price_y_test)"
      ],
      "execution_count": 17,
      "outputs": [
        {
          "output_type": "display_data",
          "data": {
            "image/png": "[encoded data removed]",
            "text/plain": [
              "<Figure size 576x576 with 1 Axes>"
            ]
          },
          "metadata": {
            "tags": [],
            "needs_background": "light"
          }
        }
      ]
    }
  ]
}
